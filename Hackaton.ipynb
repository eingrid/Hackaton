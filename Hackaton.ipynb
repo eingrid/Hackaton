{
 "cells": [
  {
   "cell_type": "code",
   "execution_count": 1,
   "id": "f92fe8d4",
   "metadata": {},
   "outputs": [],
   "source": [
    "import pandas as pd\n",
    "import matplotlib.pyplot as plt\n",
    "import seaborn as sns\n",
    "\n"
   ]
  },
  {
   "cell_type": "code",
   "execution_count": 2,
   "id": "184bde1a",
   "metadata": {},
   "outputs": [],
   "source": [
    "df_test = pd.read_csv(\"techuklon-int20h/test.csv\")\n",
    "df_train = pd.read_csv(\"techuklon-int20h/train.csv\")\n",
    "submission_example = pd.read_csv(\"techuklon-int20h/Samle_Submission.csv\")"
   ]
  },
  {
   "cell_type": "markdown",
   "id": "f03452a6",
   "metadata": {},
   "source": [
    "# EDA\n",
    "\n",
    "– Handle Missing value | Not implemented for Test data\n",
    "\n",
    "– Outlier Treatment    | Implemented for Test data (Need to fill nan's)\n",
    "\n",
    "– Normalizing and Scaling( Numerical Variables)    | Implemented for Test data\n",
    "\n",
    "– Encoding Categorical variables( Dummy Variables) | Implemented for Test data\n"
   ]
  },
  {
   "cell_type": "code",
   "execution_count": 3,
   "id": "8b888600",
   "metadata": {},
   "outputs": [
    {
     "name": "stdout",
     "output_type": "stream",
     "text": [
      "Train shape (30860, 52)\n",
      "Test shape (13228, 51)\n"
     ]
    }
   ],
   "source": [
    "print(f\"Train shape {df_train.shape}\") \n",
    "print(f\"Test shape {df_test.shape}\") "
   ]
  },
  {
   "cell_type": "code",
   "execution_count": 4,
   "id": "a17ffd17",
   "metadata": {},
   "outputs": [
    {
     "name": "stdout",
     "output_type": "stream",
     "text": [
      "<class 'pandas.core.frame.DataFrame'>\n",
      "RangeIndex: 30860 entries, 0 to 30859\n",
      "Data columns (total 52 columns):\n",
      " #   Column  Non-Null Count  Dtype  \n",
      "---  ------  --------------  -----  \n",
      " 0   Id      30860 non-null  int64  \n",
      " 1   Week    30860 non-null  int64  \n",
      " 2   V1      30812 non-null  float64\n",
      " 3   V2      30812 non-null  float64\n",
      " 4   V3      23760 non-null  float64\n",
      " 5   V4      23760 non-null  float64\n",
      " 6   V5      23760 non-null  float64\n",
      " 7   V6      23760 non-null  float64\n",
      " 8   V7      23760 non-null  float64\n",
      " 9   V8      23760 non-null  float64\n",
      " 10  V9      23760 non-null  float64\n",
      " 11  V10     23760 non-null  float64\n",
      " 12  V11     23760 non-null  float64\n",
      " 13  V12     23760 non-null  float64\n",
      " 14  V13     23760 non-null  float64\n",
      " 15  V14     23760 non-null  float64\n",
      " 16  V15     23760 non-null  float64\n",
      " 17  V16     23760 non-null  float64\n",
      " 18  V17     23760 non-null  float64\n",
      " 19  V18     23760 non-null  float64\n",
      " 20  V19     23760 non-null  float64\n",
      " 21  V20     23760 non-null  float64\n",
      " 22  V21     23760 non-null  float64\n",
      " 23  V22     23760 non-null  float64\n",
      " 24  P1      27946 non-null  float64\n",
      " 25  P2      27946 non-null  float64\n",
      " 26  P3      27947 non-null  float64\n",
      " 27  P4      27947 non-null  float64\n",
      " 28  P5      27946 non-null  float64\n",
      " 29  P6      27946 non-null  float64\n",
      " 30  P7      27946 non-null  float64\n",
      " 31  P8      27947 non-null  float64\n",
      " 32  P9      27947 non-null  float64\n",
      " 33  P10     27946 non-null  float64\n",
      " 34  P11     27946 non-null  float64\n",
      " 35  P12     27946 non-null  float64\n",
      " 36  P13     27946 non-null  float64\n",
      " 37  P14     28011 non-null  float64\n",
      " 38  P15     27946 non-null  float64\n",
      " 39  P16     27946 non-null  float64\n",
      " 40  P17     27947 non-null  float64\n",
      " 41  P18     27946 non-null  float64\n",
      " 42  P19     27947 non-null  float64\n",
      " 43  P20     27946 non-null  float64\n",
      " 44  P21     27947 non-null  float64\n",
      " 45  P22     27946 non-null  float64\n",
      " 46  P23     27947 non-null  float64\n",
      " 47  P24     27946 non-null  float64\n",
      " 48  P25     27947 non-null  float64\n",
      " 49  P26     27946 non-null  float64\n",
      " 50  P27     27946 non-null  float64\n",
      " 51  target  30860 non-null  float64\n",
      "dtypes: float64(50), int64(2)\n",
      "memory usage: 12.2 MB\n"
     ]
    }
   ],
   "source": [
    "df_train.info()"
   ]
  },
  {
   "cell_type": "code",
   "execution_count": 5,
   "id": "4dc238bc",
   "metadata": {},
   "outputs": [
    {
     "data": {
      "text/plain": [
       "Index(['V1', 'V2', 'V3', 'V4', 'V5', 'V6', 'V7', 'V8', 'V9', 'V10', 'V11',\n",
       "       'V12', 'V13', 'V14', 'V15', 'V16', 'V17', 'V18', 'V19', 'V20', 'V21',\n",
       "       'V22', 'P1', 'P2', 'P3', 'P4', 'P5', 'P6', 'P7', 'P8', 'P9', 'P10',\n",
       "       'P11', 'P12', 'P13', 'P14', 'P15', 'P16', 'P17', 'P18', 'P19', 'P20',\n",
       "       'P21', 'P22', 'P23', 'P24', 'P25', 'P26', 'P27'],\n",
       "      dtype='object')"
      ]
     },
     "execution_count": 5,
     "metadata": {},
     "output_type": "execute_result"
    }
   ],
   "source": [
    "features = df_train.columns.drop(['Id','Week','target'])\n",
    "features"
   ]
  },
  {
   "cell_type": "code",
   "execution_count": 6,
   "id": "67e7ea63",
   "metadata": {},
   "outputs": [
    {
     "data": {
      "text/plain": [
       "<AxesSubplot:xlabel='target', ylabel='count'>"
      ]
     },
     "execution_count": 6,
     "metadata": {},
     "output_type": "execute_result"
    },
    {
     "data": {
      "image/png": "[encoded data removed]",
      "text/plain": [
       "<Figure size 432x288 with 1 Axes>"
      ]
     },
     "metadata": {
      "needs_background": "light"
     },
     "output_type": "display_data"
    }
   ],
   "source": [
    "sns.countplot(x=df_train.target)"
   ]
  },
  {
   "cell_type": "markdown",
   "id": "98dc8692",
   "metadata": {},
   "source": [
    "## Find categorical and numerical values"
   ]
  },
  {
   "cell_type": "markdown",
   "id": "8aff88d5",
   "metadata": {},
   "source": [
    "\"Не впевнений, що потрібно розглядати V2 як категоріальну змінну, може ви чот скажете з цього приводу.\""
   ]
  },
  {
   "cell_type": "code",
   "execution_count": 7,
   "id": "859ec691",
   "metadata": {
    "scrolled": false
   },
   "outputs": [
    {
     "data": {
      "text/plain": [
       "V1       262\n",
       "V2        29\n",
       "V3      3470\n",
       "V4      3610\n",
       "V5      1194\n",
       "V6       635\n",
       "V7      5063\n",
       "V8      5060\n",
       "V9      4264\n",
       "V10     1217\n",
       "V11     4206\n",
       "V12      851\n",
       "V13      773\n",
       "V14     2222\n",
       "V15     3902\n",
       "V16     3025\n",
       "V17     2930\n",
       "V18     3970\n",
       "V19      936\n",
       "V20     5165\n",
       "V21     3197\n",
       "V22      967\n",
       "P1       261\n",
       "P2     20255\n",
       "P3      2787\n",
       "P4     27945\n",
       "P5      4371\n",
       "P6      2086\n",
       "P7     22022\n",
       "P8      1240\n",
       "P9       975\n",
       "P10     1347\n",
       "P11     1616\n",
       "P12       71\n",
       "P13     2333\n",
       "P14    26743\n",
       "P15     8694\n",
       "P16     1951\n",
       "P17    22975\n",
       "P18    27778\n",
       "P19     4041\n",
       "P20       63\n",
       "P21    26104\n",
       "P22      928\n",
       "P23      390\n",
       "P24    10095\n",
       "P25     2827\n",
       "P26     8184\n",
       "P27     2573\n",
       "dtype: int64"
      ]
     },
     "execution_count": 7,
     "metadata": {},
     "output_type": "execute_result"
    }
   ],
   "source": [
    "df_train[features].nunique()"
   ]
  },
  {
   "cell_type": "markdown",
   "id": "c475732e",
   "metadata": {},
   "source": [
    "To define what is categorical and what is continuous variable it's common to set a threshold so if feature has \n",
    "less unique values than threshold it is categorical else it is continues.\n",
    "\n",
    "We suppose that it is ok to set this threshold equal 100. Then only few of our features might be considered as categorical they are: V2, P12, P20. But if we look closer at these features we'll see that P12 and P20 might not be categorical."
   ]
  },
  {
   "cell_type": "code",
   "execution_count": 8,
   "id": "8fe7a429",
   "metadata": {},
   "outputs": [
    {
     "data": {
      "text/plain": [
       "array([ 0.,  3.,  2.,  4.,  1.,  6., 13.,  5.,  7.,  8., nan, 10., 16.,\n",
       "        9., 11., 15., 14., 12., 24., 17., 21., 18., 20., 23.])"
      ]
     },
     "execution_count": 8,
     "metadata": {},
     "output_type": "execute_result"
    }
   ],
   "source": [
    "df_test['V2'].unique()"
   ]
  },
  {
   "cell_type": "code",
   "execution_count": 9,
   "id": "6cc7f7e0",
   "metadata": {},
   "outputs": [
    {
     "data": {
      "text/plain": [
       "array([ 0.,  1.,  9.,  2.,  3.,  4.,  5.,  7.,  6.,  8., 10., 24., 15.,\n",
       "       14., 11., 12., 16., 17., 13., 26., 18., 23., 20., nan, 22., 19.,\n",
       "       25., 21., 28., 27.])"
      ]
     },
     "execution_count": 9,
     "metadata": {},
     "output_type": "execute_result"
    }
   ],
   "source": [
    "df_train['V2'].unique()"
   ]
  },
  {
   "cell_type": "code",
   "execution_count": 10,
   "id": "378ea945",
   "metadata": {},
   "outputs": [
    {
     "data": {
      "text/plain": [
       "array([4.82  , 4.78  , 4.86  , 4.91  , 4.9   , 4.99  , 5.    , 4.97  ,\n",
       "       4.98  , 4.95  , 4.88  , 4.92  , 4.96  , 4.59  ,    nan, 4.55  ,\n",
       "       4.89  , 4.69  , 4.68  , 4.71  , 4.94  , 4.84  , 4.87  , 4.93  ,\n",
       "       4.81  , 4.7   , 4.75  , 4.85  , 4.8   , 4.76  , 4.77  , 4.73  ,\n",
       "       4.72  , 4.79  , 4.83  , 4.74  , 4.61  , 4.65  , 4.58  , 4.6   ,\n",
       "       4.33  , 4.66  , 4.67  , 4.62  , 4.64  , 4.56  , 4.46  , 4.51  ,\n",
       "       4.44  , 4.49  , 4.57  , 4.63  , 4.41  , 4.45  , 4.48  , 4.43  ,\n",
       "       4.53  , 4.52  , 4.54  , 4.9375, 4.2   , 4.26  , 4.24  , 4.21  ,\n",
       "       4.32  , 4.3   , 4.38  , 4.31  , 4.42  , 4.5   , 4.47  , 4.39  ])"
      ]
     },
     "execution_count": 10,
     "metadata": {},
     "output_type": "execute_result"
    }
   ],
   "source": [
    "df_train['P12'].unique()"
   ]
  },
  {
   "cell_type": "code",
   "execution_count": 11,
   "id": "2b9ca01a",
   "metadata": {},
   "outputs": [
    {
     "data": {
      "text/plain": [
       "array([4.82  , 4.94  , 4.91  , 4.92  , 4.93  , 4.99  , 5.    , 4.98  ,\n",
       "       4.95  , 4.88  , 4.96  , 4.97  , 4.59  ,    nan, 4.89  , 4.7   ,\n",
       "       4.71  , 4.84  , 4.87  , 4.9   , 4.85  , 4.81  , 4.78  , 4.86  ,\n",
       "       4.8   , 4.76  , 4.73  , 4.83  , 4.79  , 4.69  , 4.77  , 4.64  ,\n",
       "       4.65  , 4.72  , 4.68  , 4.74  , 4.75  , 4.66  , 4.67  , 4.58  ,\n",
       "       4.63  , 4.6   , 4.61  , 4.53  , 4.51  , 4.57  , 4.56  , 4.42  ,\n",
       "       4.52  , 4.49  , 4.55  , 4.62  , 4.54  , 4.9375, 4.26  , 4.31  ,\n",
       "       4.24  , 4.36  , 4.43  , 4.5   , 4.44  , 4.46  , 4.48  , 4.39  ])"
      ]
     },
     "execution_count": 11,
     "metadata": {},
     "output_type": "execute_result"
    }
   ],
   "source": [
    "df_train['P20'].unique()"
   ]
  },
  {
   "cell_type": "markdown",
   "id": "03f16e95",
   "metadata": {},
   "source": [
    "## Missing values\n",
    "\n",
    "Filling nans and adding additional column which represents a number of nans in specific row."
   ]
  },
  {
   "cell_type": "code",
   "execution_count": 12,
   "id": "c4cedbac",
   "metadata": {},
   "outputs": [
    {
     "data": {
      "text/plain": [
       "Id         0.000000\n",
       "Week       0.000000\n",
       "V1         0.155541\n",
       "V2         0.155541\n",
       "V3        23.007129\n",
       "V4        23.007129\n",
       "V5        23.007129\n",
       "V6        23.007129\n",
       "V7        23.007129\n",
       "V8        23.007129\n",
       "V9        23.007129\n",
       "V10       23.007129\n",
       "V11       23.007129\n",
       "V12       23.007129\n",
       "V13       23.007129\n",
       "V14       23.007129\n",
       "V15       23.007129\n",
       "V16       23.007129\n",
       "V17       23.007129\n",
       "V18       23.007129\n",
       "V19       23.007129\n",
       "V20       23.007129\n",
       "V21       23.007129\n",
       "V22       23.007129\n",
       "P1         9.442644\n",
       "P2         9.442644\n",
       "P3         9.439404\n",
       "P4         9.439404\n",
       "P5         9.442644\n",
       "P6         9.442644\n",
       "P7         9.442644\n",
       "P8         9.439404\n",
       "P9         9.439404\n",
       "P10        9.442644\n",
       "P11        9.442644\n",
       "P12        9.442644\n",
       "P13        9.442644\n",
       "P14        9.232016\n",
       "P15        9.442644\n",
       "P16        9.442644\n",
       "P17        9.439404\n",
       "P18        9.442644\n",
       "P19        9.439404\n",
       "P20        9.442644\n",
       "P21        9.439404\n",
       "P22        9.442644\n",
       "P23        9.439404\n",
       "P24        9.442644\n",
       "P25        9.439404\n",
       "P26        9.442644\n",
       "P27        9.442644\n",
       "target     0.000000\n",
       "dtype: float64"
      ]
     },
     "execution_count": 12,
     "metadata": {},
     "output_type": "execute_result"
    }
   ],
   "source": [
    "df_train.isna().sum()/df_train.shape[0] * 100"
   ]
  },
  {
   "cell_type": "code",
   "execution_count": 13,
   "id": "b560b4cf",
   "metadata": {},
   "outputs": [
    {
     "data": {
      "text/plain": [
       "0         0\n",
       "1         0\n",
       "2         0\n",
       "3         0\n",
       "4         0\n",
       "         ..\n",
       "30855     0\n",
       "30856    20\n",
       "30857    20\n",
       "30858    20\n",
       "30859    47\n",
       "Name: nan_amount, Length: 30860, dtype: int64"
      ]
     },
     "execution_count": 13,
     "metadata": {},
     "output_type": "execute_result"
    }
   ],
   "source": [
    "df_train['nan_amount'] = df_train[features].apply(lambda row: row.isna().sum(),axis=1)\n",
    "df_train[\"nan_amount\"]"
   ]
  },
  {
   "cell_type": "code",
   "execution_count": 14,
   "id": "dc4fe73e",
   "metadata": {},
   "outputs": [],
   "source": [
    "df_train.loc[:,'V2']=df_train['V2'].fillna(df_train['V2'].mode()[0])"
   ]
  },
  {
   "cell_type": "code",
   "execution_count": 15,
   "id": "1fbc0323",
   "metadata": {},
   "outputs": [],
   "source": [
    "for feature in features:\n",
    "    df_train[feature] = df_train.groupby(\"V2\")[feature].transform(lambda x: x.fillna(x.mean()) if (pd.notna(x.mean())) else x.fillna(0))"
   ]
  },
  {
   "cell_type": "code",
   "execution_count": 16,
   "id": "cf2c1db1",
   "metadata": {},
   "outputs": [
    {
     "data": {
      "text/plain": [
       "Id            0.0\n",
       "Week          0.0\n",
       "V1            0.0\n",
       "V2            0.0\n",
       "V3            0.0\n",
       "V4            0.0\n",
       "V5            0.0\n",
       "V6            0.0\n",
       "V7            0.0\n",
       "V8            0.0\n",
       "V9            0.0\n",
       "V10           0.0\n",
       "V11           0.0\n",
       "V12           0.0\n",
       "V13           0.0\n",
       "V14           0.0\n",
       "V15           0.0\n",
       "V16           0.0\n",
       "V17           0.0\n",
       "V18           0.0\n",
       "V19           0.0\n",
       "V20           0.0\n",
       "V21           0.0\n",
       "V22           0.0\n",
       "P1            0.0\n",
       "P2            0.0\n",
       "P3            0.0\n",
       "P4            0.0\n",
       "P5            0.0\n",
       "P6            0.0\n",
       "P7            0.0\n",
       "P8            0.0\n",
       "P9            0.0\n",
       "P10           0.0\n",
       "P11           0.0\n",
       "P12           0.0\n",
       "P13           0.0\n",
       "P14           0.0\n",
       "P15           0.0\n",
       "P16           0.0\n",
       "P17           0.0\n",
       "P18           0.0\n",
       "P19           0.0\n",
       "P20           0.0\n",
       "P21           0.0\n",
       "P22           0.0\n",
       "P23           0.0\n",
       "P24           0.0\n",
       "P25           0.0\n",
       "P26           0.0\n",
       "P27           0.0\n",
       "target        0.0\n",
       "nan_amount    0.0\n",
       "dtype: float64"
      ]
     },
     "execution_count": 16,
     "metadata": {},
     "output_type": "execute_result"
    }
   ],
   "source": [
    "df_train.isna().sum()/df_train.shape[0] * 100"
   ]
  },
  {
   "cell_type": "markdown",
   "id": "e89eb2a6",
   "metadata": {},
   "source": [
    "## Outlier Treatment"
   ]
  },
  {
   "cell_type": "code",
   "execution_count": 17,
   "id": "badd8955",
   "metadata": {},
   "outputs": [],
   "source": [
    "from sklearn.ensemble import IsolationForest"
   ]
  },
  {
   "cell_type": "code",
   "execution_count": 18,
   "id": "ae285ce4",
   "metadata": {},
   "outputs": [
    {
     "data": {
      "text/plain": [
       " 1    30293\n",
       "-1      567\n",
       "Name: anomaly, dtype: int64"
      ]
     },
     "execution_count": 18,
     "metadata": {},
     "output_type": "execute_result"
    }
   ],
   "source": [
    "iso_clf = IsolationForest(random_state = 1).fit(df_train[features])\n",
    "df_train.loc[:,'anomaly'] = iso_clf.predict(df_train[features])\n",
    "df_train['anomaly'].value_counts()\n"
   ]
  },
  {
   "cell_type": "code",
   "execution_count": 19,
   "id": "973aefb7",
   "metadata": {},
   "outputs": [
    {
     "data": {
      "text/plain": [
       "(30293, 53)"
      ]
     },
     "execution_count": 19,
     "metadata": {},
     "output_type": "execute_result"
    }
   ],
   "source": [
    "df_train = df_train[df_train['anomaly'] == 1]\n",
    "df_train = df_train.drop(columns=['anomaly'])\n",
    "df_train.shape"
   ]
  },
  {
   "cell_type": "code",
   "execution_count": 27,
   "id": "f8539cf0",
   "metadata": {},
   "outputs": [],
   "source": [
    "# Need to fill nans first;"
   ]
  },
  {
   "cell_type": "code",
   "execution_count": 28,
   "id": "980eab0d",
   "metadata": {},
   "outputs": [],
   "source": [
    "# df_test.loc[:,'anomaly'] = iso_clf.predict(df_test[features])\n",
    "# df_test['anomaly'].value_counts()"
   ]
  },
  {
   "cell_type": "code",
   "execution_count": null,
   "id": "2d27f829",
   "metadata": {},
   "outputs": [],
   "source": [
    "# df_test = df_test[df_test['anomaly'] == 1]\n",
    "# df_test = df_test.drop(columns=['anomaly'])\n",
    "# df_test.shape"
   ]
  },
  {
   "cell_type": "markdown",
   "id": "9f41c447",
   "metadata": {},
   "source": [
    "## Normalizing and Scaling"
   ]
  },
  {
   "cell_type": "code",
   "execution_count": 21,
   "id": "7a8185a4",
   "metadata": {},
   "outputs": [],
   "source": [
    "from sklearn.preprocessing import StandardScaler\n",
    "\n",
    "cat = ['V2']\n",
    "numerical = features.drop('V2') \n",
    "\n",
    "scaler = StandardScaler()\n",
    "df_train.loc[:,numerical] = scaler.fit_transform(df_train[numerical])\n",
    "df_test.loc[:,numerical] = scaler.transform(df_test[numerical])"
   ]
  },
  {
   "cell_type": "markdown",
   "id": "86580421",
   "metadata": {},
   "source": [
    "## Encoding (V2 variable)"
   ]
  },
  {
   "cell_type": "code",
   "execution_count": 24,
   "id": "cda08633",
   "metadata": {},
   "outputs": [],
   "source": [
    "from sklearn.preprocessing import OneHotEncoder\n",
    "encoder = OneHotEncoder(handle_unknown='ignore')\n",
    "train_v2_encoded = encoder.fit_transform(df_train.loc[:,cat])\n",
    "test_v2_encoded = encoder.transform(df_test.loc[:,cat])\n",
    "\n",
    "df_train = pd.concat([df_train.reset_index(),pd.DataFrame.sparse.from_spmatrix(train_v2_encoded)],axis=1)\n",
    "df_test = pd.concat([df_test.reset_index(),pd.DataFrame.sparse.from_spmatrix(test_v2_encoded)],axis=1)\n"
   ]
  },
  {
   "cell_type": "markdown",
   "id": "dfcac4f3",
   "metadata": {},
   "source": [
    "# ToDO\n",
    "\n",
    "Речі, які на мою думку є сенс зробити.\n",
    "\n",
    "1) Нові фічі ( добуток фіч, різниця, сума і тд)\n",
    "\n",
    "2) Мб варто подивитися на розподіли данних, але не знаю чи це щось дасть\n",
    "\n",
    "3) Власне модель, бажано з підбором гіперпараметрів."
   ]
  },
  {
   "cell_type": "code",
   "execution_count": null,
   "id": "be8de448",
   "metadata": {},
   "outputs": [],
   "source": []
  },
  {
   "cell_type": "code",
   "execution_count": null,
   "id": "1b86ace9",
   "metadata": {},
   "outputs": [],
   "source": []
  }
 ],
 "metadata": {
  "kernelspec": {
   "display_name": "Python 3 (ipykernel)",
   "language": "python",
   "name": "python3"
  },
  "language_info": {
   "codemirror_mode": {
    "name": "ipython",
    "version": 3
   },
   "file_extension": ".py",
   "mimetype": "text/x-python",
   "name": "python",
   "nbconvert_exporter": "python",
   "pygments_lexer": "ipython3",
   "version": "3.9.7"
  }
 },
 "nbformat": 4,
 "nbformat_minor": 5
}

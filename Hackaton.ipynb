{
 "cells": [
  {
   "cell_type": "code",
   "execution_count": 1,
   "id": "f92fe8d4",
   "metadata": {},
   "outputs": [],
   "source": [
    "import pandas as pd\n",
    "import matplotlib.pyplot as plt\n",
    "import seaborn as sns\n",
    "\n"
   ]
  },
  {
   "cell_type": "code",
   "execution_count": 2,
   "id": "184bde1a",
   "metadata": {},
   "outputs": [],
   "source": [
    "df_test = pd.read_csv(\"techuklon-int20h/test.csv\")\n",
    "df_train = pd.read_csv(\"techuklon-int20h/train.csv\")\n",
    "submission_example = pd.read_csv(\"techuklon-int20h/Samle_Submission.csv\")"
   ]
  },
  {
   "cell_type": "markdown",
   "id": "f03452a6",
   "metadata": {},
   "source": [
    "# EDA\n",
    "\n",
    "– Handle Missing value \n",
    "\n",
    "– Outlier Treatment    \n",
    "\n",
    "– Normalizing and Scaling( Numerical Variables)   \n",
    "\n"
   ]
  },
  {
   "cell_type": "code",
   "execution_count": 3,
   "id": "8b888600",
   "metadata": {},
   "outputs": [
    {
     "name": "stdout",
     "output_type": "stream",
     "text": [
      "Train shape (30860, 52)\n",
      "Test shape (13228, 51)\n"
     ]
    }
   ],
   "source": [
    "print(f\"Train shape {df_train.shape}\") \n",
    "print(f\"Test shape {df_test.shape}\") "
   ]
  },
  {
   "cell_type": "code",
   "execution_count": 4,
   "id": "a17ffd17",
   "metadata": {},
   "outputs": [
    {
     "name": "stdout",
     "output_type": "stream",
     "text": [
      "<class 'pandas.core.frame.DataFrame'>\n",
      "RangeIndex: 30860 entries, 0 to 30859\n",
      "Data columns (total 52 columns):\n",
      " #   Column  Non-Null Count  Dtype  \n",
      "---  ------  --------------  -----  \n",
      " 0   Id      30860 non-null  int64  \n",
      " 1   Week    30860 non-null  int64  \n",
      " 2   V1      30812 non-null  float64\n",
      " 3   V2      30812 non-null  float64\n",
      " 4   V3      23760 non-null  float64\n",
      " 5   V4      23760 non-null  float64\n",
      " 6   V5      23760 non-null  float64\n",
      " 7   V6      23760 non-null  float64\n",
      " 8   V7      23760 non-null  float64\n",
      " 9   V8      23760 non-null  float64\n",
      " 10  V9      23760 non-null  float64\n",
      " 11  V10     23760 non-null  float64\n",
      " 12  V11     23760 non-null  float64\n",
      " 13  V12     23760 non-null  float64\n",
      " 14  V13     23760 non-null  float64\n",
      " 15  V14     23760 non-null  float64\n",
      " 16  V15     23760 non-null  float64\n",
      " 17  V16     23760 non-null  float64\n",
      " 18  V17     23760 non-null  float64\n",
      " 19  V18     23760 non-null  float64\n",
      " 20  V19     23760 non-null  float64\n",
      " 21  V20     23760 non-null  float64\n",
      " 22  V21     23760 non-null  float64\n",
      " 23  V22     23760 non-null  float64\n",
      " 24  P1      27946 non-null  float64\n",
      " 25  P2      27946 non-null  float64\n",
      " 26  P3      27947 non-null  float64\n",
      " 27  P4      27947 non-null  float64\n",
      " 28  P5      27946 non-null  float64\n",
      " 29  P6      27946 non-null  float64\n",
      " 30  P7      27946 non-null  float64\n",
      " 31  P8      27947 non-null  float64\n",
      " 32  P9      27947 non-null  float64\n",
      " 33  P10     27946 non-null  float64\n",
      " 34  P11     27946 non-null  float64\n",
      " 35  P12     27946 non-null  float64\n",
      " 36  P13     27946 non-null  float64\n",
      " 37  P14     28011 non-null  float64\n",
      " 38  P15     27946 non-null  float64\n",
      " 39  P16     27946 non-null  float64\n",
      " 40  P17     27947 non-null  float64\n",
      " 41  P18     27946 non-null  float64\n",
      " 42  P19     27947 non-null  float64\n",
      " 43  P20     27946 non-null  float64\n",
      " 44  P21     27947 non-null  float64\n",
      " 45  P22     27946 non-null  float64\n",
      " 46  P23     27947 non-null  float64\n",
      " 47  P24     27946 non-null  float64\n",
      " 48  P25     27947 non-null  float64\n",
      " 49  P26     27946 non-null  float64\n",
      " 50  P27     27946 non-null  float64\n",
      " 51  target  30860 non-null  float64\n",
      "dtypes: float64(50), int64(2)\n",
      "memory usage: 12.2 MB\n"
     ]
    }
   ],
   "source": [
    "df_train.info()"
   ]
  },
  {
   "cell_type": "code",
   "execution_count": 5,
   "id": "4dc238bc",
   "metadata": {},
   "outputs": [
    {
     "data": {
      "text/plain": [
       "Index(['V1', 'V2', 'V3', 'V4', 'V5', 'V6', 'V7', 'V8', 'V9', 'V10', 'V11',\n",
       "       'V12', 'V13', 'V14', 'V15', 'V16', 'V17', 'V18', 'V19', 'V20', 'V21',\n",
       "       'V22', 'P1', 'P2', 'P3', 'P4', 'P5', 'P6', 'P7', 'P8', 'P9', 'P10',\n",
       "       'P11', 'P12', 'P13', 'P14', 'P15', 'P16', 'P17', 'P18', 'P19', 'P20',\n",
       "       'P21', 'P22', 'P23', 'P24', 'P25', 'P26', 'P27'],\n",
       "      dtype='object')"
      ]
     },
     "execution_count": 5,
     "metadata": {},
     "output_type": "execute_result"
    }
   ],
   "source": [
    "features = df_train.columns.drop(['Id','Week','target'])\n",
    "features"
   ]
  },
  {
   "cell_type": "code",
   "execution_count": 6,
   "id": "67e7ea63",
   "metadata": {},
   "outputs": [
    {
     "data": {
      "text/plain": [
       "<AxesSubplot:xlabel='target', ylabel='count'>"
      ]
     },
     "execution_count": 6,
     "metadata": {},
     "output_type": "execute_result"
    },
    {
     "data": {
      "image/png": "[encoded data removed]",
      "text/plain": [
       "<Figure size 432x288 with 1 Axes>"
      ]
     },
     "metadata": {
      "needs_background": "light"
     },
     "output_type": "display_data"
    }
   ],
   "source": [
    "sns.countplot(x=df_train.target)"
   ]
  },
  {
   "cell_type": "markdown",
   "id": "03f16e95",
   "metadata": {},
   "source": [
    "## Missing values\n",
    "\n",
    "Filling nans and adding additional column which represents a number of nans in specific row."
   ]
  },
  {
   "cell_type": "code",
   "execution_count": 7,
   "id": "c4cedbac",
   "metadata": {},
   "outputs": [
    {
     "data": {
      "text/plain": [
       "Id         0.000000\n",
       "Week       0.000000\n",
       "V1         0.155541\n",
       "V2         0.155541\n",
       "V3        23.007129\n",
       "V4        23.007129\n",
       "V5        23.007129\n",
       "V6        23.007129\n",
       "V7        23.007129\n",
       "V8        23.007129\n",
       "V9        23.007129\n",
       "V10       23.007129\n",
       "V11       23.007129\n",
       "V12       23.007129\n",
       "V13       23.007129\n",
       "V14       23.007129\n",
       "V15       23.007129\n",
       "V16       23.007129\n",
       "V17       23.007129\n",
       "V18       23.007129\n",
       "V19       23.007129\n",
       "V20       23.007129\n",
       "V21       23.007129\n",
       "V22       23.007129\n",
       "P1         9.442644\n",
       "P2         9.442644\n",
       "P3         9.439404\n",
       "P4         9.439404\n",
       "P5         9.442644\n",
       "P6         9.442644\n",
       "P7         9.442644\n",
       "P8         9.439404\n",
       "P9         9.439404\n",
       "P10        9.442644\n",
       "P11        9.442644\n",
       "P12        9.442644\n",
       "P13        9.442644\n",
       "P14        9.232016\n",
       "P15        9.442644\n",
       "P16        9.442644\n",
       "P17        9.439404\n",
       "P18        9.442644\n",
       "P19        9.439404\n",
       "P20        9.442644\n",
       "P21        9.439404\n",
       "P22        9.442644\n",
       "P23        9.439404\n",
       "P24        9.442644\n",
       "P25        9.439404\n",
       "P26        9.442644\n",
       "P27        9.442644\n",
       "target     0.000000\n",
       "dtype: float64"
      ]
     },
     "execution_count": 7,
     "metadata": {},
     "output_type": "execute_result"
    }
   ],
   "source": [
    "df_train.isna().sum()/df_train.shape[0] * 100"
   ]
  },
  {
   "cell_type": "code",
   "execution_count": 8,
   "id": "b560b4cf",
   "metadata": {},
   "outputs": [
    {
     "data": {
      "text/plain": [
       "0         0\n",
       "1         0\n",
       "2         0\n",
       "3         0\n",
       "4         0\n",
       "         ..\n",
       "30855     0\n",
       "30856    20\n",
       "30857    20\n",
       "30858    20\n",
       "30859    47\n",
       "Name: nan_amount, Length: 30860, dtype: int64"
      ]
     },
     "execution_count": 8,
     "metadata": {},
     "output_type": "execute_result"
    }
   ],
   "source": [
    "df_train['nan_amount'] = df_train[features].apply(lambda row: row.isna().sum(),axis=1)\n",
    "df_train[\"nan_amount\"]"
   ]
  },
  {
   "cell_type": "code",
   "execution_count": 9,
   "id": "dc4fe73e",
   "metadata": {},
   "outputs": [],
   "source": [
    "df_train.fillna(df_train.mean(),inplace=True)\n",
    "df_test.fillna(df_train.mean(),inplace=True)"
   ]
  },
  {
   "cell_type": "code",
   "execution_count": 10,
   "id": "1fbc0323",
   "metadata": {},
   "outputs": [
    {
     "data": {
      "text/plain": [
       "Id            0.0\n",
       "Week          0.0\n",
       "V1            0.0\n",
       "V2            0.0\n",
       "V3            0.0\n",
       "V4            0.0\n",
       "V5            0.0\n",
       "V6            0.0\n",
       "V7            0.0\n",
       "V8            0.0\n",
       "V9            0.0\n",
       "V10           0.0\n",
       "V11           0.0\n",
       "V12           0.0\n",
       "V13           0.0\n",
       "V14           0.0\n",
       "V15           0.0\n",
       "V16           0.0\n",
       "V17           0.0\n",
       "V18           0.0\n",
       "V19           0.0\n",
       "V20           0.0\n",
       "V21           0.0\n",
       "V22           0.0\n",
       "P1            0.0\n",
       "P2            0.0\n",
       "P3            0.0\n",
       "P4            0.0\n",
       "P5            0.0\n",
       "P6            0.0\n",
       "P7            0.0\n",
       "P8            0.0\n",
       "P9            0.0\n",
       "P10           0.0\n",
       "P11           0.0\n",
       "P12           0.0\n",
       "P13           0.0\n",
       "P14           0.0\n",
       "P15           0.0\n",
       "P16           0.0\n",
       "P17           0.0\n",
       "P18           0.0\n",
       "P19           0.0\n",
       "P20           0.0\n",
       "P21           0.0\n",
       "P22           0.0\n",
       "P23           0.0\n",
       "P24           0.0\n",
       "P25           0.0\n",
       "P26           0.0\n",
       "P27           0.0\n",
       "target        0.0\n",
       "nan_amount    0.0\n",
       "dtype: float64"
      ]
     },
     "execution_count": 10,
     "metadata": {},
     "output_type": "execute_result"
    }
   ],
   "source": [
    "df_train.isna().sum()/df_train.shape[0] * 100"
   ]
  },
  {
   "cell_type": "markdown",
   "id": "e89eb2a6",
   "metadata": {},
   "source": [
    "## Outlier Treatment"
   ]
  },
  {
   "cell_type": "code",
   "execution_count": 11,
   "id": "badd8955",
   "metadata": {},
   "outputs": [],
   "source": [
    "from sklearn.ensemble import IsolationForest"
   ]
  },
  {
   "cell_type": "code",
   "execution_count": 12,
   "id": "ae285ce4",
   "metadata": {},
   "outputs": [
    {
     "data": {
      "text/plain": [
       " 1    30237\n",
       "-1      623\n",
       "Name: anomaly, dtype: int64"
      ]
     },
     "execution_count": 12,
     "metadata": {},
     "output_type": "execute_result"
    }
   ],
   "source": [
    "iso_clf = IsolationForest(random_state = 1).fit(df_train[features])\n",
    "df_train.loc[:,'anomaly'] = iso_clf.predict(df_train[features])\n",
    "df_train['anomaly'].value_counts()\n"
   ]
  },
  {
   "cell_type": "code",
   "execution_count": 13,
   "id": "973aefb7",
   "metadata": {},
   "outputs": [
    {
     "data": {
      "text/plain": [
       "(30237, 53)"
      ]
     },
     "execution_count": 13,
     "metadata": {},
     "output_type": "execute_result"
    }
   ],
   "source": [
    "df_train = df_train[df_train['anomaly'] == 1]\n",
    "df_train = df_train.drop(columns=['anomaly'])\n",
    "df_train.shape"
   ]
  },
  {
   "cell_type": "markdown",
   "id": "9f41c447",
   "metadata": {},
   "source": [
    "## Normalizing and Scaling"
   ]
  },
  {
   "cell_type": "code",
   "execution_count": 14,
   "id": "7a8185a4",
   "metadata": {},
   "outputs": [],
   "source": [
    "from sklearn.preprocessing import StandardScaler\n",
    "\n",
    "cat = ['V2']\n",
    "numerical = features.drop('V2') \n",
    "\n",
    "scaler = StandardScaler()\n",
    "df_train.loc[:,numerical] = scaler.fit_transform(df_train[numerical])\n",
    "df_test.loc[:,numerical] = scaler.transform(df_test[numerical])"
   ]
  },
  {
   "cell_type": "code",
   "execution_count": 15,
   "id": "d4ca1e4b",
   "metadata": {},
   "outputs": [
    {
     "data": {
      "text/plain": [
       "['V1',\n",
       " 'V2',\n",
       " 'V3',\n",
       " 'V4',\n",
       " 'V5',\n",
       " 'V6',\n",
       " 'V7',\n",
       " 'V8',\n",
       " 'V9',\n",
       " 'V10',\n",
       " 'V11',\n",
       " 'V12',\n",
       " 'V13',\n",
       " 'V14',\n",
       " 'V15',\n",
       " 'V16',\n",
       " 'V17',\n",
       " 'V18',\n",
       " 'V19',\n",
       " 'V20',\n",
       " 'V21',\n",
       " 'V22',\n",
       " 'P1',\n",
       " 'P2',\n",
       " 'P3',\n",
       " 'P4',\n",
       " 'P5',\n",
       " 'P6',\n",
       " 'P7',\n",
       " 'P8',\n",
       " 'P9',\n",
       " 'P10',\n",
       " 'P11',\n",
       " 'P12',\n",
       " 'P13',\n",
       " 'P14',\n",
       " 'P15',\n",
       " 'P16',\n",
       " 'P17',\n",
       " 'P18',\n",
       " 'P19',\n",
       " 'P20',\n",
       " 'P21',\n",
       " 'P22',\n",
       " 'P23',\n",
       " 'P24',\n",
       " 'P25',\n",
       " 'P26',\n",
       " 'P27']"
      ]
     },
     "execution_count": 15,
     "metadata": {},
     "output_type": "execute_result"
    }
   ],
   "source": [
    "features = list(features.values)\n",
    "features"
   ]
  },
  {
   "cell_type": "markdown",
   "id": "18eb6fd7",
   "metadata": {},
   "source": [
    "## Additional features"
   ]
  },
  {
   "cell_type": "code",
   "execution_count": 16,
   "id": "23a0f52e",
   "metadata": {},
   "outputs": [
    {
     "name": "stderr",
     "output_type": "stream",
     "text": [
      "/tmp/ipykernel_26812/3666530020.py:8: PerformanceWarning: DataFrame is highly fragmented.  This is usually the result of calling `frame.insert` many times, which has poor performance.  Consider joining all columns at once using pd.concat(axis=1) instead.  To get a de-fragmented frame, use `newframe = frame.copy()`\n",
      "  df_train[f'{feature1}+{feature2}'] = df_train[feature1] + df_train[feature2]\n",
      "/tmp/ipykernel_26812/3666530020.py:13: PerformanceWarning: DataFrame is highly fragmented.  This is usually the result of calling `frame.insert` many times, which has poor performance.  Consider joining all columns at once using pd.concat(axis=1) instead.  To get a de-fragmented frame, use `newframe = frame.copy()`\n",
      "  df_test[f'{feature1}+{feature2}'] = df_test[feature1] + df_test[feature2]\n",
      "/tmp/ipykernel_26812/3666530020.py:6: PerformanceWarning: DataFrame is highly fragmented.  This is usually the result of calling `frame.insert` many times, which has poor performance.  Consider joining all columns at once using pd.concat(axis=1) instead.  To get a de-fragmented frame, use `newframe = frame.copy()`\n",
      "  df_train[f'{feature1}*{feature2}'] = df_train[feature1] * df_train[feature2]\n",
      "/tmp/ipykernel_26812/3666530020.py:7: PerformanceWarning: DataFrame is highly fragmented.  This is usually the result of calling `frame.insert` many times, which has poor performance.  Consider joining all columns at once using pd.concat(axis=1) instead.  To get a de-fragmented frame, use `newframe = frame.copy()`\n",
      "  df_train[f'{feature1}-{feature2}'] = df_train[feature1] - df_train[feature2]\n",
      "/tmp/ipykernel_26812/3666530020.py:11: PerformanceWarning: DataFrame is highly fragmented.  This is usually the result of calling `frame.insert` many times, which has poor performance.  Consider joining all columns at once using pd.concat(axis=1) instead.  To get a de-fragmented frame, use `newframe = frame.copy()`\n",
      "  df_test[f'{feature1}*{feature2}'] = df_test[feature1] * df_test[feature2]\n",
      "/tmp/ipykernel_26812/3666530020.py:12: PerformanceWarning: DataFrame is highly fragmented.  This is usually the result of calling `frame.insert` many times, which has poor performance.  Consider joining all columns at once using pd.concat(axis=1) instead.  To get a de-fragmented frame, use `newframe = frame.copy()`\n",
      "  df_test[f'{feature1}-{feature2}'] = df_test[feature1] - df_test[feature2]\n"
     ]
    }
   ],
   "source": [
    "features_copy = features.copy()\n",
    "for i,feature1 in enumerate(features_copy):\n",
    "    for feature2 in features_copy[i:]:\n",
    "        if feature1 != feature2:\n",
    "            features = features + ([f'{feature1}*{feature2}',f'{feature1}-{feature2}',f'{feature1}+{feature2}'])\n",
    "            df_train[f'{feature1}*{feature2}'] = df_train[feature1] * df_train[feature2] \n",
    "            df_train[f'{feature1}-{feature2}'] = df_train[feature1] - df_train[feature2] \n",
    "            df_train[f'{feature1}+{feature2}'] = df_train[feature1] + df_train[feature2]\n",
    "                \n",
    "                \n",
    "            df_test[f'{feature1}*{feature2}'] = df_test[feature1] * df_test[feature2] \n",
    "            df_test[f'{feature1}-{feature2}'] = df_test[feature1] - df_test[feature2] \n",
    "            df_test[f'{feature1}+{feature2}'] = df_test[feature1] + df_test[feature2]\n",
    "                \n",
    "                \n",
    "                \n",
    "    "
   ]
  },
  {
   "cell_type": "code",
   "execution_count": 17,
   "id": "9e93cc05",
   "metadata": {
    "scrolled": true
   },
   "outputs": [
    {
     "data": {
      "text/html": [
       "<div>\n",
       "<style scoped>\n",
       "    .dataframe tbody tr th:only-of-type {\n",
       "        vertical-align: middle;\n",
       "    }\n",
       "\n",
       "    .dataframe tbody tr th {\n",
       "        vertical-align: top;\n",
       "    }\n",
       "\n",
       "    .dataframe thead th {\n",
       "        text-align: right;\n",
       "    }\n",
       "</style>\n",
       "<table border=\"1\" class=\"dataframe\">\n",
       "  <thead>\n",
       "    <tr style=\"text-align: right;\">\n",
       "      <th></th>\n",
       "      <th>Id</th>\n",
       "      <th>Week</th>\n",
       "      <th>V1</th>\n",
       "      <th>V2</th>\n",
       "      <th>V3</th>\n",
       "      <th>V4</th>\n",
       "      <th>V5</th>\n",
       "      <th>V6</th>\n",
       "      <th>V7</th>\n",
       "      <th>V8</th>\n",
       "      <th>...</th>\n",
       "      <th>P24+P27</th>\n",
       "      <th>P25*P26</th>\n",
       "      <th>P25-P26</th>\n",
       "      <th>P25+P26</th>\n",
       "      <th>P25*P27</th>\n",
       "      <th>P25-P27</th>\n",
       "      <th>P25+P27</th>\n",
       "      <th>P26*P27</th>\n",
       "      <th>P26-P27</th>\n",
       "      <th>P26+P27</th>\n",
       "    </tr>\n",
       "  </thead>\n",
       "  <tbody>\n",
       "    <tr>\n",
       "      <th>0</th>\n",
       "      <td>-6536978109522202983</td>\n",
       "      <td>0</td>\n",
       "      <td>-0.735192</td>\n",
       "      <td>0.0</td>\n",
       "      <td>-0.706645</td>\n",
       "      <td>-0.498565</td>\n",
       "      <td>-0.107935</td>\n",
       "      <td>0.533074</td>\n",
       "      <td>-1.171904</td>\n",
       "      <td>-1.143782</td>\n",
       "      <td>...</td>\n",
       "      <td>-2.179367</td>\n",
       "      <td>-0.710784</td>\n",
       "      <td>-1.898598</td>\n",
       "      <td>0.872660</td>\n",
       "      <td>0.006641</td>\n",
       "      <td>-0.500022</td>\n",
       "      <td>-0.525916</td>\n",
       "      <td>-0.017940</td>\n",
       "      <td>1.398576</td>\n",
       "      <td>1.372682</td>\n",
       "    </tr>\n",
       "    <tr>\n",
       "      <th>1</th>\n",
       "      <td>-6536978109522202983</td>\n",
       "      <td>1</td>\n",
       "      <td>-0.735192</td>\n",
       "      <td>0.0</td>\n",
       "      <td>-0.706645</td>\n",
       "      <td>-0.498565</td>\n",
       "      <td>-0.107935</td>\n",
       "      <td>0.533074</td>\n",
       "      <td>-1.171904</td>\n",
       "      <td>-1.143782</td>\n",
       "      <td>...</td>\n",
       "      <td>-1.934243</td>\n",
       "      <td>0.340351</td>\n",
       "      <td>-0.167245</td>\n",
       "      <td>1.178717</td>\n",
       "      <td>0.117420</td>\n",
       "      <td>0.273558</td>\n",
       "      <td>0.737913</td>\n",
       "      <td>0.156251</td>\n",
       "      <td>0.440804</td>\n",
       "      <td>0.905159</td>\n",
       "    </tr>\n",
       "    <tr>\n",
       "      <th>2</th>\n",
       "      <td>-6536978109522202983</td>\n",
       "      <td>2</td>\n",
       "      <td>-0.735192</td>\n",
       "      <td>0.0</td>\n",
       "      <td>-0.706645</td>\n",
       "      <td>-0.498565</td>\n",
       "      <td>-0.107935</td>\n",
       "      <td>0.533074</td>\n",
       "      <td>-1.171904</td>\n",
       "      <td>-1.143782</td>\n",
       "      <td>...</td>\n",
       "      <td>-2.820033</td>\n",
       "      <td>-0.007278</td>\n",
       "      <td>0.392082</td>\n",
       "      <td>-0.353010</td>\n",
       "      <td>-0.012769</td>\n",
       "      <td>0.673149</td>\n",
       "      <td>-0.634077</td>\n",
       "      <td>0.243501</td>\n",
       "      <td>0.281067</td>\n",
       "      <td>-1.026159</td>\n",
       "    </tr>\n",
       "    <tr>\n",
       "      <th>3</th>\n",
       "      <td>-6536978109522202983</td>\n",
       "      <td>3</td>\n",
       "      <td>-0.735192</td>\n",
       "      <td>0.0</td>\n",
       "      <td>-0.706645</td>\n",
       "      <td>-0.498565</td>\n",
       "      <td>-0.107935</td>\n",
       "      <td>0.533074</td>\n",
       "      <td>-1.171904</td>\n",
       "      <td>-1.143782</td>\n",
       "      <td>...</td>\n",
       "      <td>-2.013316</td>\n",
       "      <td>-0.055097</td>\n",
       "      <td>-0.519340</td>\n",
       "      <td>0.222093</td>\n",
       "      <td>-0.036664</td>\n",
       "      <td>-0.395315</td>\n",
       "      <td>0.098068</td>\n",
       "      <td>0.091452</td>\n",
       "      <td>0.124025</td>\n",
       "      <td>0.617407</td>\n",
       "    </tr>\n",
       "    <tr>\n",
       "      <th>4</th>\n",
       "      <td>-1744017237843019509</td>\n",
       "      <td>0</td>\n",
       "      <td>-0.295845</td>\n",
       "      <td>1.0</td>\n",
       "      <td>-0.486203</td>\n",
       "      <td>-0.400008</td>\n",
       "      <td>1.386144</td>\n",
       "      <td>-0.190234</td>\n",
       "      <td>0.225093</td>\n",
       "      <td>-0.088936</td>\n",
       "      <td>...</td>\n",
       "      <td>-1.004409</td>\n",
       "      <td>-0.410213</td>\n",
       "      <td>1.288368</td>\n",
       "      <td>-0.137982</td>\n",
       "      <td>-0.236562</td>\n",
       "      <td>0.986467</td>\n",
       "      <td>0.163919</td>\n",
       "      <td>0.293310</td>\n",
       "      <td>-0.301901</td>\n",
       "      <td>-1.124449</td>\n",
       "    </tr>\n",
       "    <tr>\n",
       "      <th>...</th>\n",
       "      <td>...</td>\n",
       "      <td>...</td>\n",
       "      <td>...</td>\n",
       "      <td>...</td>\n",
       "      <td>...</td>\n",
       "      <td>...</td>\n",
       "      <td>...</td>\n",
       "      <td>...</td>\n",
       "      <td>...</td>\n",
       "      <td>...</td>\n",
       "      <td>...</td>\n",
       "      <td>...</td>\n",
       "      <td>...</td>\n",
       "      <td>...</td>\n",
       "      <td>...</td>\n",
       "      <td>...</td>\n",
       "      <td>...</td>\n",
       "      <td>...</td>\n",
       "      <td>...</td>\n",
       "      <td>...</td>\n",
       "      <td>...</td>\n",
       "    </tr>\n",
       "    <tr>\n",
       "      <th>30855</th>\n",
       "      <td>2010738301694279951</td>\n",
       "      <td>3</td>\n",
       "      <td>0.216727</td>\n",
       "      <td>2.0</td>\n",
       "      <td>-0.611907</td>\n",
       "      <td>3.138584</td>\n",
       "      <td>-0.424475</td>\n",
       "      <td>-0.190234</td>\n",
       "      <td>0.324427</td>\n",
       "      <td>-1.215422</td>\n",
       "      <td>...</td>\n",
       "      <td>0.482999</td>\n",
       "      <td>-0.166101</td>\n",
       "      <td>1.040032</td>\n",
       "      <td>-0.645957</td>\n",
       "      <td>0.007735</td>\n",
       "      <td>0.157782</td>\n",
       "      <td>0.236293</td>\n",
       "      <td>-0.033092</td>\n",
       "      <td>-0.882250</td>\n",
       "      <td>-0.803739</td>\n",
       "    </tr>\n",
       "    <tr>\n",
       "      <th>30856</th>\n",
       "      <td>8802977523104348852</td>\n",
       "      <td>0</td>\n",
       "      <td>-0.458828</td>\n",
       "      <td>1.0</td>\n",
       "      <td>0.002374</td>\n",
       "      <td>0.000916</td>\n",
       "      <td>0.059483</td>\n",
       "      <td>0.002979</td>\n",
       "      <td>-0.007947</td>\n",
       "      <td>-0.006330</td>\n",
       "      <td>...</td>\n",
       "      <td>0.251140</td>\n",
       "      <td>-0.149555</td>\n",
       "      <td>-1.497626</td>\n",
       "      <td>-1.282445</td>\n",
       "      <td>0.594234</td>\n",
       "      <td>-0.962540</td>\n",
       "      <td>-1.817531</td>\n",
       "      <td>-0.045994</td>\n",
       "      <td>0.535086</td>\n",
       "      <td>-0.319905</td>\n",
       "    </tr>\n",
       "    <tr>\n",
       "      <th>30857</th>\n",
       "      <td>8802977523104348852</td>\n",
       "      <td>1</td>\n",
       "      <td>-0.458828</td>\n",
       "      <td>1.0</td>\n",
       "      <td>0.002374</td>\n",
       "      <td>0.000916</td>\n",
       "      <td>0.059483</td>\n",
       "      <td>0.002979</td>\n",
       "      <td>-0.007947</td>\n",
       "      <td>-0.006330</td>\n",
       "      <td>...</td>\n",
       "      <td>3.662435</td>\n",
       "      <td>-8.126573</td>\n",
       "      <td>-6.727969</td>\n",
       "      <td>3.572013</td>\n",
       "      <td>-4.427781</td>\n",
       "      <td>-4.383962</td>\n",
       "      <td>1.228005</td>\n",
       "      <td>14.450789</td>\n",
       "      <td>2.344007</td>\n",
       "      <td>7.955974</td>\n",
       "    </tr>\n",
       "    <tr>\n",
       "      <th>30858</th>\n",
       "      <td>8802977523104348852</td>\n",
       "      <td>2</td>\n",
       "      <td>-0.458828</td>\n",
       "      <td>1.0</td>\n",
       "      <td>0.002374</td>\n",
       "      <td>0.000916</td>\n",
       "      <td>0.059483</td>\n",
       "      <td>0.002979</td>\n",
       "      <td>-0.007947</td>\n",
       "      <td>-0.006330</td>\n",
       "      <td>...</td>\n",
       "      <td>1.548237</td>\n",
       "      <td>-0.438342</td>\n",
       "      <td>-1.341759</td>\n",
       "      <td>-0.216683</td>\n",
       "      <td>-0.539054</td>\n",
       "      <td>-1.471007</td>\n",
       "      <td>-0.087436</td>\n",
       "      <td>0.389156</td>\n",
       "      <td>-0.129248</td>\n",
       "      <td>1.254324</td>\n",
       "    </tr>\n",
       "    <tr>\n",
       "      <th>30859</th>\n",
       "      <td>8802977523104348852</td>\n",
       "      <td>3</td>\n",
       "      <td>-0.458828</td>\n",
       "      <td>1.0</td>\n",
       "      <td>0.002374</td>\n",
       "      <td>0.000916</td>\n",
       "      <td>0.059483</td>\n",
       "      <td>0.002979</td>\n",
       "      <td>-0.007947</td>\n",
       "      <td>-0.006330</td>\n",
       "      <td>...</td>\n",
       "      <td>0.003665</td>\n",
       "      <td>-0.000246</td>\n",
       "      <td>-0.055229</td>\n",
       "      <td>0.045450</td>\n",
       "      <td>-0.000166</td>\n",
       "      <td>-0.038880</td>\n",
       "      <td>0.029101</td>\n",
       "      <td>0.001711</td>\n",
       "      <td>0.016349</td>\n",
       "      <td>0.084330</td>\n",
       "    </tr>\n",
       "  </tbody>\n",
       "</table>\n",
       "<p>30237 rows × 3581 columns</p>\n",
       "</div>"
      ],
      "text/plain": [
       "                        Id  Week        V1   V2        V3        V4        V5  \\\n",
       "0     -6536978109522202983     0 -0.735192  0.0 -0.706645 -0.498565 -0.107935   \n",
       "1     -6536978109522202983     1 -0.735192  0.0 -0.706645 -0.498565 -0.107935   \n",
       "2     -6536978109522202983     2 -0.735192  0.0 -0.706645 -0.498565 -0.107935   \n",
       "3     -6536978109522202983     3 -0.735192  0.0 -0.706645 -0.498565 -0.107935   \n",
       "4     -1744017237843019509     0 -0.295845  1.0 -0.486203 -0.400008  1.386144   \n",
       "...                    ...   ...       ...  ...       ...       ...       ...   \n",
       "30855  2010738301694279951     3  0.216727  2.0 -0.611907  3.138584 -0.424475   \n",
       "30856  8802977523104348852     0 -0.458828  1.0  0.002374  0.000916  0.059483   \n",
       "30857  8802977523104348852     1 -0.458828  1.0  0.002374  0.000916  0.059483   \n",
       "30858  8802977523104348852     2 -0.458828  1.0  0.002374  0.000916  0.059483   \n",
       "30859  8802977523104348852     3 -0.458828  1.0  0.002374  0.000916  0.059483   \n",
       "\n",
       "             V6        V7        V8  ...   P24+P27   P25*P26   P25-P26  \\\n",
       "0      0.533074 -1.171904 -1.143782  ... -2.179367 -0.710784 -1.898598   \n",
       "1      0.533074 -1.171904 -1.143782  ... -1.934243  0.340351 -0.167245   \n",
       "2      0.533074 -1.171904 -1.143782  ... -2.820033 -0.007278  0.392082   \n",
       "3      0.533074 -1.171904 -1.143782  ... -2.013316 -0.055097 -0.519340   \n",
       "4     -0.190234  0.225093 -0.088936  ... -1.004409 -0.410213  1.288368   \n",
       "...         ...       ...       ...  ...       ...       ...       ...   \n",
       "30855 -0.190234  0.324427 -1.215422  ...  0.482999 -0.166101  1.040032   \n",
       "30856  0.002979 -0.007947 -0.006330  ...  0.251140 -0.149555 -1.497626   \n",
       "30857  0.002979 -0.007947 -0.006330  ...  3.662435 -8.126573 -6.727969   \n",
       "30858  0.002979 -0.007947 -0.006330  ...  1.548237 -0.438342 -1.341759   \n",
       "30859  0.002979 -0.007947 -0.006330  ...  0.003665 -0.000246 -0.055229   \n",
       "\n",
       "        P25+P26   P25*P27   P25-P27   P25+P27    P26*P27   P26-P27   P26+P27  \n",
       "0      0.872660  0.006641 -0.500022 -0.525916  -0.017940  1.398576  1.372682  \n",
       "1      1.178717  0.117420  0.273558  0.737913   0.156251  0.440804  0.905159  \n",
       "2     -0.353010 -0.012769  0.673149 -0.634077   0.243501  0.281067 -1.026159  \n",
       "3      0.222093 -0.036664 -0.395315  0.098068   0.091452  0.124025  0.617407  \n",
       "4     -0.137982 -0.236562  0.986467  0.163919   0.293310 -0.301901 -1.124449  \n",
       "...         ...       ...       ...       ...        ...       ...       ...  \n",
       "30855 -0.645957  0.007735  0.157782  0.236293  -0.033092 -0.882250 -0.803739  \n",
       "30856 -1.282445  0.594234 -0.962540 -1.817531  -0.045994  0.535086 -0.319905  \n",
       "30857  3.572013 -4.427781 -4.383962  1.228005  14.450789  2.344007  7.955974  \n",
       "30858 -0.216683 -0.539054 -1.471007 -0.087436   0.389156 -0.129248  1.254324  \n",
       "30859  0.045450 -0.000166 -0.038880  0.029101   0.001711  0.016349  0.084330  \n",
       "\n",
       "[30237 rows x 3581 columns]"
      ]
     },
     "execution_count": 17,
     "metadata": {},
     "output_type": "execute_result"
    }
   ],
   "source": [
    "df_train"
   ]
  },
  {
   "cell_type": "markdown",
   "id": "aaa8e22f",
   "metadata": {},
   "source": [
    "## Model"
   ]
  },
  {
   "cell_type": "code",
   "execution_count": 18,
   "id": "75000552",
   "metadata": {},
   "outputs": [],
   "source": [
    "#%pip install lightgbm"
   ]
  },
  {
   "cell_type": "code",
   "execution_count": 19,
   "id": "40974e2f",
   "metadata": {},
   "outputs": [],
   "source": [
    "from lightgbm import LGBMClassifier"
   ]
  },
  {
   "cell_type": "code",
   "execution_count": null,
   "id": "8044acc7",
   "metadata": {},
   "outputs": [],
   "source": [
    "clf = LGBMClassifier()\n",
    "X_train,y_train = df_train.loc[:int(df_train.shape[0]*0.8),features],df_train.loc[:int(df_train.shape[0]*0.8),'target']\n",
    "X_test,y_test = df_train.loc[int(df_train.shape[0]*0.8):,features],df_train.loc[int(df_train.shape[0]*0.8):,'target']\n",
    "clf.fit(X_train,y_train)"
   ]
  },
  {
   "cell_type": "code",
   "execution_count": null,
   "id": "d41357fc",
   "metadata": {},
   "outputs": [],
   "source": [
    "prediction_test = clf.predict_proba(X_test)[:,1]"
   ]
  },
  {
   "cell_type": "code",
   "execution_count": null,
   "id": "e4867fc2",
   "metadata": {},
   "outputs": [],
   "source": [
    "from sklearn.metrics import roc_auc_score\n",
    "roc_auc_score(y_test,prediction_test)"
   ]
  },
  {
   "cell_type": "markdown",
   "id": "dfcac4f3",
   "metadata": {},
   "source": [
    "# ToDO\n",
    "\n",
    "Речі, які на мою думку є сенс зробити.\n",
    "\n",
    "\n",
    "1) Мб варто подивитися на розподіли данних, але не знаю чи це щось дасть\n",
    "\n",
    "2) Власне модель, бажано з підбором гіперпараметрів."
   ]
  },
  {
   "cell_type": "code",
   "execution_count": null,
   "id": "be8de448",
   "metadata": {},
   "outputs": [],
   "source": []
  },
  {
   "cell_type": "code",
   "execution_count": null,
   "id": "1b86ace9",
   "metadata": {},
   "outputs": [],
   "source": []
  }
 ],
 "metadata": {
  "kernelspec": {
   "display_name": "Python [conda env:root] *",
   "language": "python",
   "name": "conda-root-py"
  },
  "language_info": {
   "codemirror_mode": {
    "name": "ipython",
    "version": 3
   },
   "file_extension": ".py",
   "mimetype": "text/x-python",
   "name": "python",
   "nbconvert_exporter": "python",
   "pygments_lexer": "ipython3",
   "version": "3.9.7"
  }
 },
 "nbformat": 4,
 "nbformat_minor": 5
}
